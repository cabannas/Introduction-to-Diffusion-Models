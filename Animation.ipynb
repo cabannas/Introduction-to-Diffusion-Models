{
 "cells": [
  {
   "cell_type": "code",
   "execution_count": 48,
   "metadata": {},
   "outputs": [],
   "source": [
    "import torch\n",
    "import torch.nn as nn\n",
    "import numpy as np\n",
    "from tqdm import tqdm\n",
    "from keras.datasets.mnist import load_data\n",
    "from matplotlib import pyplot as plt\n",
    "\n",
    "from DiffusionModel import DiffusionModel\n",
    "from unet import UNet\n",
    "\n",
    "import imageio"
   ]
  },
  {
   "cell_type": "code",
   "execution_count": 49,
   "metadata": {},
   "outputs": [],
   "source": [
    "(trainX, trainY), (testX, testY) = load_data()\n",
    "\n",
    "trainX = np.float32(trainX) / 255.\n",
    "testX = np.float32(testX) / 255.\n",
    "\n",
    "\n",
    "def sample_batch(batch_size, device):\n",
    "\n",
    "    indices = torch.randperm(trainX.shape[0])[:batch_size]\n",
    "    data = torch.from_numpy(trainX[indices]).unsqueeze(1).to(device) # [B, 1, H, W]\n",
    "    \n",
    "    return torch.nn.functional.interpolate(data, 32)"
   ]
  },
  {
   "cell_type": "code",
   "execution_count": 50,
   "metadata": {},
   "outputs": [],
   "source": [
    "device = 'cuda'\n",
    "model = torch.load('model_paper2_epoch_39999').to(device)\n",
    "diffusion_model = DiffusionModel(1000, model, device)"
   ]
  },
  {
   "cell_type": "code",
   "execution_count": 51,
   "metadata": {},
   "outputs": [],
   "source": [
    "@torch.no_grad()\n",
    "def sampling(self, n_samples=1, image_channels=1, image_size=(32, 32), use_tqdm=True):\n",
    "\n",
    "    x = torch.randn((n_samples, image_channels, image_size[0], image_size[1]),\n",
    "                        device=self.device)\n",
    "\n",
    "    all_x = [x]\n",
    "\n",
    "    progress_bar = tqdm if use_tqdm else lambda x : x\n",
    "\n",
    "    for t in progress_bar(range(self.T, 0, -1)):\n",
    "        z = torch.randn_like(x) if t > 1 else torch.zeros_like(x)\n",
    "\n",
    "        t = torch.ones(n_samples, dtype=torch.long, device=self.device) * t\n",
    "\n",
    "        beta_t = self.beta[t-1].unsqueeze(-1).unsqueeze(-1) .unsqueeze(-1) \n",
    "        alpha_t = self.alpha[t-1].unsqueeze(-1).unsqueeze(-1) .unsqueeze(-1) \n",
    "        alpha_bar_t = self.alpha_bar[t-1].unsqueeze(-1).unsqueeze(-1) .unsqueeze(-1) \n",
    "\n",
    "        mean = 1 / torch.sqrt(alpha_t) * (x - ((1 - alpha_t) / torch.sqrt(1 - alpha_bar_t)) * self.function_aproximator(x, t-1))\n",
    "        sigma = torch.sqrt(beta_t)\n",
    "\n",
    "        x = mean + sigma * z\n",
    "        all_x.append(x)\n",
    "\n",
    "    return all_x"
   ]
  },
  {
   "cell_type": "code",
   "execution_count": 52,
   "metadata": {},
   "outputs": [
    {
     "name": "stderr",
     "output_type": "stream",
     "text": [
      "100%|██████████| 1000/1000 [00:24<00:00, 40.11it/s]\n"
     ]
    }
   ],
   "source": [
    "imgs = sampling(diffusion_model, n_samples=10)"
   ]
  },
  {
   "cell_type": "code",
   "execution_count": 64,
   "metadata": {},
   "outputs": [
    {
     "data": {
      "text/plain": [
       "<matplotlib.image.AxesImage at 0x1a1d4bf30e0>"
      ]
     },
     "execution_count": 64,
     "metadata": {},
     "output_type": "execute_result"
    },
    {
     "data": {
      "image/png": "[encoded data removed]",
      "text/plain": [
       "<Figure size 640x480 with 1 Axes>"
      ]
     },
     "metadata": {},
     "output_type": "display_data"
    }
   ],
   "source": [
    "idx = 9 # select from 0 to 9 the desired number\n",
    "plt.imshow(imgs[-1][idx].data.cpu().numpy().squeeze(0), cmap='gray')"
   ]
  },
  {
   "cell_type": "code",
   "execution_count": 89,
   "metadata": {},
   "outputs": [],
   "source": [
    "indices = (1.1 ** np.linspace(0, 73, 80, dtype=int)).astype(int)\n",
    "indices = np.array(sorted(list(set(list(indices))))).clip(1, 1000)\n",
    "indices = sorted(1001 - indices)"
   ]
  },
  {
   "cell_type": "code",
   "execution_count": 91,
   "metadata": {},
   "outputs": [],
   "source": [
    "imgs_np = [(e[idx].clip(0, 1).squeeze(0).data.cpu().numpy() * 255).astype(np.uint8) for e in imgs]\n",
    "imgs_np = np.array(imgs_np)[indices]"
   ]
  },
  {
   "cell_type": "code",
   "execution_count": 92,
   "metadata": {},
   "outputs": [],
   "source": [
    "imageio.mimsave('movie.gif', imgs_np)"
   ]
  },
  {
   "cell_type": "code",
   "execution_count": 93,
   "metadata": {},
   "outputs": [],
   "source": [
    "imageio.mimsave('movie.mp4', imgs_np)"
   ]
  }
 ],
 "metadata": {
  "kernelspec": {
   "display_name": "Python 3",
   "language": "python",
   "name": "python3"
  },
  "language_info": {
   "codemirror_mode": {
    "name": "ipython",
    "version": 3
   },
   "file_extension": ".py",
   "mimetype": "text/x-python",
   "name": "python",
   "nbconvert_exporter": "python",
   "pygments_lexer": "ipython3",
   "version": "3.12.2"
  }
 },
 "nbformat": 4,
 "nbformat_minor": 2
}
