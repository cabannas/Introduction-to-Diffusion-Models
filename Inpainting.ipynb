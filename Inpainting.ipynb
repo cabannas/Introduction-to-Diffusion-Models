{
 "cells": [
  {
   "cell_type": "code",
   "execution_count": null,
   "metadata": {},
   "outputs": [],
   "source": [
    "import torch\n",
    "import torch.nn as nn\n",
    "import numpy as np\n",
    "from tqdm import tqdm\n",
    "from keras.datasets.mnist import load_data\n",
    "from matplotlib import pyplot as plt\n",
    "\n",
    "from DiffusionModel import DiffusionModel\n",
    "from unet import UNet "
   ]
  },
  {
   "cell_type": "code",
   "execution_count": null,
   "metadata": {},
   "outputs": [],
   "source": [
    "(trainX, trainY), (testX, testY) = load_data()\n",
    "\n",
    "trainX = np.float32(trainX) / 255.\n",
    "testX = np.float32(testX) / 255.\n",
    "\n",
    "\n",
    "def sample_batch(batch_size, device):\n",
    "\n",
    "    indices = torch.randperm(trainX.shape[0])[:batch_size]\n",
    "    data = torch.from_numpy(trainX[indices]).unsqueeze(1).to(device) # [B, 1, H, W]\n",
    "    \n",
    "    return torch.nn.functional.interpolate(data, 32)"
   ]
  },
  {
   "cell_type": "code",
   "execution_count": null,
   "metadata": {},
   "outputs": [],
   "source": [
    "device = 'cuda'\n",
    "model = torch.load('model_paper2_epoch_39999').to(device)\n",
    "diffusion_model = DiffusionModel(1000, model, device)"
   ]
  },
  {
   "cell_type": "code",
   "execution_count": null,
   "metadata": {},
   "outputs": [],
   "source": [
    "def forward(diffusion_model, T, x0):\n",
    "\n",
    "    x_forward = []\n",
    "    x = x0\n",
    "\n",
    "    for t in range(T):\n",
    "        std = torch.sqrt(diffusion_model.beta[t])\n",
    "        x = x + torch.randn_like(x) * std\n",
    "        x_forward.append(x)\n",
    "\n",
    "    return x_forward"
   ]
  },
  {
   "cell_type": "code",
   "execution_count": null,
   "metadata": {},
   "outputs": [],
   "source": [
    "@torch.no_grad()\n",
    "def inpainting(self, x0, mask):\n",
    "\n",
    "\n",
    "    # Run the forward process\n",
    "    x_forward = []\n",
    "    x = x0\n",
    "\n",
    "    for t in range(self.T):\n",
    "        std = torch.sqrt(diffusion_model.beta[t])\n",
    "        x = torch.sqrt(1 - diffusion_model.beta[t]) * x + torch.randn_like(x) * std\n",
    "        x_forward.append(x)\n",
    "\n",
    "    x = x_forward[-1]\n",
    "    \n",
    "\n",
    "    for t in tqdm(range(self.T, 0, -1)):\n",
    "        z = torch.randn_like(x) if t > 1 else torch.zeros_like(x)\n",
    "\n",
    "        t_tensor = torch.ones(x0.shape[0], dtype=torch.long, device=self.device) * t\n",
    "\n",
    "        beta_t = self.beta[t-1].unsqueeze(-1).unsqueeze(-1) .unsqueeze(-1) \n",
    "        alpha_t = self.alpha[t-1].unsqueeze(-1).unsqueeze(-1) .unsqueeze(-1) \n",
    "        alpha_bar_t = self.alpha_bar[t-1].unsqueeze(-1).unsqueeze(-1) .unsqueeze(-1) \n",
    "\n",
    "        mean = 1 / torch.sqrt(alpha_t) * (x - ((1 - alpha_t) / torch.sqrt(1 - alpha_bar_t)) * self.function_aproximator(x, t_tensor-1))\n",
    "        sigma = torch.sqrt(beta_t)\n",
    "\n",
    "        x = x_forward[t-1]\n",
    "        x[mask] =( mean + sigma * z)[mask]\n",
    "\n",
    "    return x"
   ]
  },
  {
   "cell_type": "code",
   "execution_count": null,
   "metadata": {},
   "outputs": [],
   "source": [
    "x0 = sample_batch(10, device)"
   ]
  },
  {
   "cell_type": "code",
   "execution_count": null,
   "metadata": {},
   "outputs": [],
   "source": [
    "mask = torch.zeros_like(x0).bool()\n",
    "mask[:,:,:,:18] = 1.\n",
    "x = inpainting(diffusion_model, x0, mask)\n",
    "plt.imshow(x[0, 0].data.cpu().numpy(), cmap='gray')\n",
    "plt.show()\n",
    "# x_star = x.clone()\n",
    "# x[mask] = 0.5\n",
    "# plt.imshow(x[0, 0].data.cpu().numpy(), cmap='gray')"
   ]
  },
  {
   "cell_type": "code",
   "execution_count": null,
   "metadata": {},
   "outputs": [],
   "source": [
    "for i in range(10):\n",
    "    plt.imshow(x0[i, 0].data.cpu().numpy(), cmap='gray')\n",
    "    plt.show()\n",
    "    plt.imshow(x[i, 0].data.cpu().numpy(), cmap='gray')\n",
    "    plt.show()\n",
    "    print()"
   ]
  }
 ],
 "metadata": {
  "kernelspec": {
   "display_name": "Python 3",
   "language": "python",
   "name": "python3"
  },
  "language_info": {
   "codemirror_mode": {
    "name": "ipython",
    "version": 3
   },
   "file_extension": ".py",
   "mimetype": "text/x-python",
   "name": "python",
   "nbconvert_exporter": "python",
   "pygments_lexer": "ipython3",
   "version": "3.12.2"
  }
 },
 "nbformat": 4,
 "nbformat_minor": 2
}
