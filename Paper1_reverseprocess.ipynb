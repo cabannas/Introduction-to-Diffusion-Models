{
 "cells": [
  {
   "cell_type": "code",
   "execution_count": 1,
   "id": "83b0a6c0-7ce6-41d4-9186-55224860ca0b",
   "metadata": {},
   "outputs": [],
   "source": [
    "import numpy as np\n",
    "import matplotlib.pyplot as plt\n",
    "import torch.nn as nn\n",
    "import torch\n",
    "from sklearn.datasets import make_swiss_roll"
   ]
  },
  {
   "cell_type": "code",
   "execution_count": 2,
   "id": "4607304d",
   "metadata": {},
   "outputs": [],
   "source": [
    "def sample_batch(batch_size, device='cpu'):\n",
    "\n",
    "    data, _ = make_swiss_roll(batch_size)\n",
    "    data = data[:, [2,0]] / 10\n",
    "    data = data *np.array([1, -1])\n",
    "    return torch.from_numpy(data).to(device)"
   ]
  },
  {
   "cell_type": "code",
   "execution_count": 3,
   "id": "a13f8603",
   "metadata": {},
   "outputs": [],
   "source": [
    "class MLP(nn.Module):\n",
    "\n",
    "    def __init__(self, N=40, data_dim=2, hidden_dim=64):\n",
    "        super(MLP, self).__init__()"
   ]
  },
  {
   "cell_type": "code",
   "execution_count": 4,
   "id": "c9e77eb1",
   "metadata": {},
   "outputs": [],
   "source": [
    "class DiffusionModel():\n",
    "    def __init__(self, T, model: nn.Module):\n",
    "        self.betas = torch.sigmoid(torch.linspace(-18, 10, T)) * (3e-1 - 1e-5) + 1e-5 # scaling data\n",
    "        self.alphas = 1-self.betas\n",
    "        self.alphas_bar = torch.cumprod(self.alphas, 0)\n",
    "\n",
    "        self.T = T\n",
    "        self.model = model\n",
    "\n",
    "\n",
    "    def forward_process(self, x0, t):\n",
    "\n",
    "        # param t: Number of diffusion steps\n",
    "        # param x0: data\n",
    "\n",
    "        assert t > 0, 't should be greater than 0'\n",
    "        assert T <= self.T, 'T should be lower or equal than {self.T}'\n",
    "\n",
    "        t = t - 1 # Because we start indexing at 0\n",
    "\n",
    "        mu = torch.sqrt(self.alphas_bar[t]) * x0\n",
    "        std = torch.sqrt(1 - self.alphas_bar[t])\n",
    "        epsilon = torch.randn_like(x0)\n",
    "\n",
    "        return mu + epsilon * std # data ~ N(mu, std)\n",
    "    \n",
    "    def reverse_process(self, xt, t):\n",
    "\n",
    "        # param t: Number of diffusion steps\n",
    "        # param x0: data\n",
    "\n",
    "        assert t > 0, 't should be greater than 0'\n",
    "        assert T <= self.T, 'T should be lower or equal than {self.T}'\n",
    "\n",
    "        t = t - 1 # Because we start indexing at 0\n",
    "\n",
    "        mu, std = self.model(xt, t)\n",
    "        epsilon = torch.randn_like(x0)\n",
    "\n",
    "        return mu + epsilon * std # data ~ N(mu, std)\n",
    "\n",
    "\n",
    "\n",
    "       "
   ]
  },
  {
   "cell_type": "code",
   "execution_count": 5,
   "id": "0e255576",
   "metadata": {},
   "outputs": [
    {
     "ename": "TypeError",
     "evalue": "DiffusionModel.__init__() missing 1 required positional argument: 'model'",
     "output_type": "error",
     "traceback": [
      "\u001b[1;31m---------------------------------------------------------------------------\u001b[0m",
      "\u001b[1;31mTypeError\u001b[0m                                 Traceback (most recent call last)",
      "Cell \u001b[1;32mIn[5], line 2\u001b[0m\n\u001b[0;32m      1\u001b[0m x0 \u001b[38;5;241m=\u001b[39m sample_batch(\u001b[38;5;241m5_000\u001b[39m)\n\u001b[1;32m----> 2\u001b[0m model \u001b[38;5;241m=\u001b[39m \u001b[43mDiffusionModel\u001b[49m\u001b[43m(\u001b[49m\u001b[38;5;241;43m40\u001b[39;49m\u001b[43m)\u001b[49m\n\u001b[0;32m      3\u001b[0m xT \u001b[38;5;241m=\u001b[39m model\u001b[38;5;241m.\u001b[39mforward_process(x0, \u001b[38;5;241m20\u001b[39m)\n",
      "\u001b[1;31mTypeError\u001b[0m: DiffusionModel.__init__() missing 1 required positional argument: 'model'"
     ]
    }
   ],
   "source": [
    "x0 = sample_batch(5_000)\n",
    "model = DiffusionModel(40)\n",
    "xT = model.forward_process(x0, 20)"
   ]
  },
  {
   "cell_type": "code",
   "execution_count": null,
   "id": "2377a959",
   "metadata": {},
   "outputs": [],
   "source": [
    "print(xT.mean(0))\n",
    "print(xT.std(0))"
   ]
  },
  {
   "cell_type": "code",
   "execution_count": null,
   "id": "86fb535e",
   "metadata": {},
   "outputs": [],
   "source": [
    "font_size = 14\n",
    "fig = plt.figure(figsize=(10, 3))\n",
    "\n",
    "data = [x0, model.forward_process(x0, 20), model.forward_process(x0, 40)]\n",
    "for i in range(3):\n",
    "\n",
    "    plt.subplot(1, 3, 1+i)\n",
    "    plt.scatter(data[i][:, 0].data.numpy(), data[i][:, 1].data.numpy(), alpha=0.1)\n",
    "    plt.xlim([-2,2])\n",
    "    plt.ylim([-2,2])\n",
    "    plt.gca().set_aspect('equal')\n",
    "\n",
    "    if i == 0:\n",
    "        plt.ylabel(r'$q(\\mathbf{x}^{(0..T)})$', fontsize = font_size)\n",
    "        plt.title(r'$t=0$', fontsize = font_size)\n",
    "    elif i == 1:\n",
    "        plt.title(r'$t=\\frac{T}{2}$', fontsize = font_size)\n",
    "    elif i == 2:\n",
    "        plt.title(r'$t=T$', fontsize = font_size)\n",
    "\n",
    "plt.savefig('forward_process.png', bbox_inches = 'tight')"
   ]
  }
 ],
 "metadata": {
  "kernelspec": {
   "display_name": "Python 3 (ipykernel)",
   "language": "python",
   "name": "python3"
  },
  "language_info": {
   "codemirror_mode": {
    "name": "ipython",
    "version": 3
   },
   "file_extension": ".py",
   "mimetype": "text/x-python",
   "name": "python",
   "nbconvert_exporter": "python",
   "pygments_lexer": "ipython3",
   "version": "3.12.2"
  }
 },
 "nbformat": 4,
 "nbformat_minor": 5
}
