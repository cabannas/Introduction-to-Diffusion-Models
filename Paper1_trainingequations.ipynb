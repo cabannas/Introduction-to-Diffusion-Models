{
 "cells": [
  {
   "cell_type": "code",
   "execution_count": 10,
   "id": "83b0a6c0-7ce6-41d4-9186-55224860ca0b",
   "metadata": {},
   "outputs": [],
   "source": [
    "import numpy as np\n",
    "import torch\n",
    "import torch.nn as nn\n",
    "import matplotlib.pyplot as plt\n",
    "from sklearn.datasets import make_swiss_roll\n",
    "from tqdm import tqdm"
   ]
  },
  {
   "cell_type": "code",
   "execution_count": 11,
   "id": "4607304d",
   "metadata": {},
   "outputs": [],
   "source": [
    "def sample_batch(batch_size, device='cpu'):\n",
    "\n",
    "    data, _ = make_swiss_roll(batch_size)\n",
    "    data = data[:, [2,0]] / 10\n",
    "    data = data *np.array([1, -1])\n",
    "    return torch.from_numpy(data).to(device)"
   ]
  },
  {
   "cell_type": "code",
   "execution_count": 12,
   "id": "a13f8603",
   "metadata": {},
   "outputs": [],
   "source": [
    "class MLP(nn.Module):\n",
    "\n",
    "    def __init__(self, N=40, data_dim=2, hidden_dim=64):\n",
    "        super(MLP, self).__init__()\n",
    "\n",
    "        self.network_head = nn.Sequential(nn.Linear(data_dim, hidden_dim),\n",
    "                                          nn.ReLU(),\n",
    "                                          nn.Linear(hidden_dim, hidden_dim),\n",
    "                                          nn.ReLU(),)\n",
    "        \n",
    "        self.network_tail = nn.ModuleList([nn.Sequential(nn.Linear(hidden_dim, hidden_dim),\n",
    "                                                         nn.ReLU(),\n",
    "                                                         nn.Linear(hidden_dim, data_dim * 2),) for t in range(N)])\n",
    "        \n",
    "\n",
    "    def forward(self, x, t):\n",
    "\n",
    "        h = self.network_head(x) # [batch_size, hidden_dim]\n",
    "        tmp = self.network_tail[t](h) # [batch_size, data_dim * 2]\n",
    "        mu, h = torch.chunk(tmp, 2, dim=1)\n",
    "        var = torch.exp(h)\n",
    "        std = torch.sqrt(var)\n",
    "\n",
    "        return mu, std"
   ]
  },
  {
   "cell_type": "code",
   "execution_count": 13,
   "id": "181a120b",
   "metadata": {},
   "outputs": [
    {
     "name": "stdout",
     "output_type": "stream",
     "text": [
      "torch.Size([64, 2])\n",
      "torch.Size([64, 2])\n"
     ]
    }
   ],
   "source": [
    "model = torch.load('model_paper1')\n",
    "t = 5\n",
    "x = torch.randn((64, 2))\n",
    "mu, std = model(x, t)\n",
    "\n",
    "print(mu.shape)\n",
    "print(std.shape)"
   ]
  },
  {
   "cell_type": "code",
   "execution_count": 14,
   "id": "c9e77eb1",
   "metadata": {},
   "outputs": [],
   "source": [
    "class DiffusionModel():\n",
    "    def __init__(self, T, model: nn.Module, device, dim=2):\n",
    "        self.betas = (torch.sigmoid(torch.linspace(-18, 10, T)) * (3e-1 - 1e-5) + 1e-5).to(device) # scaling data\n",
    "        self.alphas = 1-self.betas\n",
    "        self.alphas_bar = torch.cumprod(self.alphas, 0)\n",
    "\n",
    "        self.T = T\n",
    "        self.model = model\n",
    "        self.dim = dim\n",
    "\n",
    "\n",
    "    def forward_process(self, x0, t):\n",
    "\n",
    "        # param t: Number of diffusion steps\n",
    "        # param x0: data\n",
    "\n",
    "        assert t > 0, 't should be greater than 0'\n",
    "        assert self.T <= self.T, 'T should be lower or equal than {self.T}'\n",
    "\n",
    "        t = t - 1 # Because we start indexing at 0\n",
    "\n",
    "        mu = torch.sqrt(self.alphas_bar[t].cuda()) * x0\n",
    "        std = torch.sqrt(1 - self.alphas_bar[t])\n",
    "        epsilon = torch.randn_like(x0)\n",
    "        xt = mu + epsilon * std # data ~ N(mu, std)\n",
    "\n",
    "        std_q = torch.sqrt(((1 - self.alphas_bar[t-1]) / (1 - self.alphas_bar[t])) * self.betas[t])\n",
    "        m1 = torch.sqrt(1 - self.alphas_bar[t-1]) * self.betas[t] / (1 - self.alphas_bar[t])\n",
    "        m2 = torch.sqrt(self.alphas[t]) * (1 - self.alphas_bar[t-1]) / (1 - self.alphas_bar[t])\n",
    "        mu_q = m1 * x0 + m2 * xt\n",
    "\n",
    "        return mu_q, std_q, xt\n",
    "    \n",
    "    def reverse_process(self, xt, t):\n",
    "\n",
    "        # param t: Number of diffusion steps\n",
    "        # param x0: data\n",
    "\n",
    "        assert t > 0, 't should be greater than 0'\n",
    "        assert self.T <= self.T, 'T should be lower or equal than {self.T}'\n",
    "\n",
    "        t = t - 1 # Because we start indexing at 0\n",
    "\n",
    "        mu, std = self.model(xt, t)\n",
    "        epsilon = torch.randn_like(xt)\n",
    "\n",
    "        return mu, std, mu + epsilon * std # data ~ N(mu, std)\n",
    "    \n",
    "\n",
    "    def sample(self, batch_size, device):\n",
    "        \n",
    "        noise = torch.randn((batch_size, self.dim)).to(device)\n",
    "        x = noise\n",
    "\n",
    "        samples = [x]\n",
    "\n",
    "        for t in range(self.T, 0, -1):\n",
    "\n",
    "            if not t == 1:\n",
    "                _, _, x = self.reverse_process(x,t) # only reverse if t greater than 1\n",
    "\n",
    "            samples.append(x)\n",
    "\n",
    "        return samples[::-1]\n",
    "    \n",
    "    def get_loss(self, x0):\n",
    "\n",
    "        # param x0: batch [batch_size, self.dim]\n",
    "\n",
    "        t = torch.randint(2, 40+1, (1,))\n",
    "        mu_q, sigma_q, xt = self.forward_process(x0, t)\n",
    "        mu_p, sigma_p, xt_minus1 = self.reverse_process(xt.float(), t)\n",
    "\n",
    "        KL = torch.log(sigma_p) - torch.log(sigma_q) + (sigma_q**2 + (mu_q - mu_p)**2) / (2 * sigma_p**2)\n",
    "        K = - KL.mean() # should be maximized\n",
    "        loss = - K # should be minimized\n",
    "\n",
    "        return loss\n",
    "\n",
    "       "
   ]
  },
  {
   "cell_type": "code",
   "execution_count": 15,
   "id": "0e255576",
   "metadata": {},
   "outputs": [
    {
     "ename": "RuntimeError",
     "evalue": "Expected all tensors to be on the same device, but found at least two devices, cuda:0 and cpu!",
     "output_type": "error",
     "traceback": [
      "\u001b[1;31m---------------------------------------------------------------------------\u001b[0m",
      "\u001b[1;31mRuntimeError\u001b[0m                              Traceback (most recent call last)",
      "Cell \u001b[1;32mIn[15], line 4\u001b[0m\n\u001b[0;32m      2\u001b[0m mlp_model \u001b[38;5;241m=\u001b[39m torch\u001b[38;5;241m.\u001b[39mload(\u001b[38;5;124m'\u001b[39m\u001b[38;5;124mmodel_paper1\u001b[39m\u001b[38;5;124m'\u001b[39m)\n\u001b[0;32m      3\u001b[0m model \u001b[38;5;241m=\u001b[39m DiffusionModel(\u001b[38;5;241m40\u001b[39m, mlp_model, device \u001b[38;5;241m=\u001b[39m \u001b[38;5;124m'\u001b[39m\u001b[38;5;124mcuda\u001b[39m\u001b[38;5;124m'\u001b[39m)\n\u001b[1;32m----> 4\u001b[0m xT \u001b[38;5;241m=\u001b[39m \u001b[43mmodel\u001b[49m\u001b[38;5;241;43m.\u001b[39;49m\u001b[43mforward_process\u001b[49m\u001b[43m(\u001b[49m\u001b[43mx0\u001b[49m\u001b[43m,\u001b[49m\u001b[43m \u001b[49m\u001b[38;5;241;43m20\u001b[39;49m\u001b[43m)\u001b[49m\n",
      "Cell \u001b[1;32mIn[14], line 22\u001b[0m, in \u001b[0;36mDiffusionModel.forward_process\u001b[1;34m(self, x0, t)\u001b[0m\n\u001b[0;32m     18\u001b[0m \u001b[38;5;28;01massert\u001b[39;00m \u001b[38;5;28mself\u001b[39m\u001b[38;5;241m.\u001b[39mT \u001b[38;5;241m<\u001b[39m\u001b[38;5;241m=\u001b[39m \u001b[38;5;28mself\u001b[39m\u001b[38;5;241m.\u001b[39mT, \u001b[38;5;124m'\u001b[39m\u001b[38;5;124mT should be lower or equal than \u001b[39m\u001b[38;5;132;01m{self.T}\u001b[39;00m\u001b[38;5;124m'\u001b[39m\n\u001b[0;32m     20\u001b[0m t \u001b[38;5;241m=\u001b[39m t \u001b[38;5;241m-\u001b[39m \u001b[38;5;241m1\u001b[39m \u001b[38;5;66;03m# Because we start indexing at 0\u001b[39;00m\n\u001b[1;32m---> 22\u001b[0m mu \u001b[38;5;241m=\u001b[39m \u001b[43mtorch\u001b[49m\u001b[38;5;241;43m.\u001b[39;49m\u001b[43msqrt\u001b[49m\u001b[43m(\u001b[49m\u001b[38;5;28;43mself\u001b[39;49m\u001b[38;5;241;43m.\u001b[39;49m\u001b[43malphas_bar\u001b[49m\u001b[43m[\u001b[49m\u001b[43mt\u001b[49m\u001b[43m]\u001b[49m\u001b[38;5;241;43m.\u001b[39;49m\u001b[43mcuda\u001b[49m\u001b[43m(\u001b[49m\u001b[43m)\u001b[49m\u001b[43m)\u001b[49m\u001b[43m \u001b[49m\u001b[38;5;241;43m*\u001b[39;49m\u001b[43m \u001b[49m\u001b[43mx0\u001b[49m\n\u001b[0;32m     23\u001b[0m std \u001b[38;5;241m=\u001b[39m torch\u001b[38;5;241m.\u001b[39msqrt(\u001b[38;5;241m1\u001b[39m \u001b[38;5;241m-\u001b[39m \u001b[38;5;28mself\u001b[39m\u001b[38;5;241m.\u001b[39malphas_bar[t])\n\u001b[0;32m     24\u001b[0m epsilon \u001b[38;5;241m=\u001b[39m torch\u001b[38;5;241m.\u001b[39mrandn_like(x0)\n",
      "\u001b[1;31mRuntimeError\u001b[0m: Expected all tensors to be on the same device, but found at least two devices, cuda:0 and cpu!"
     ]
    }
   ],
   "source": [
    "# x0 = sample_batch(3_000)\n",
    "# mlp_model = torch.load('model_paper1')\n",
    "# model = DiffusionModel(40, mlp_model, device = 'cuda')\n",
    "# xT = model.forward_process(x0, 20)"
   ]
  },
  {
   "cell_type": "code",
   "execution_count": 16,
   "id": "86fb535e",
   "metadata": {},
   "outputs": [],
   "source": [
    "def plot(model, file_name, device):\n",
    "\n",
    "    font_size = 14\n",
    "    fig = plt.figure(figsize=(10, 6))\n",
    "\n",
    "    N = 5_000\n",
    "    x0 = sample_batch(N).to(device)\n",
    "    samples = model.sample(N, device=device)\n",
    "\n",
    "    data = [x0.cpu(), model.forward_process(x0, 20)[-1].cpu(), model.forward_process(x0, 40)[-1].cpu()]\n",
    "    for i in range(3):\n",
    "\n",
    "        plt.subplot(2, 3, 1+i)\n",
    "        plt.scatter(data[i][:, 0].data.numpy(), data[i][:, 1].data.numpy(), alpha=0.1, s=1)\n",
    "        plt.xlim([-2,2])\n",
    "        plt.ylim([-2,2])\n",
    "        plt.gca().set_aspect('equal')\n",
    "\n",
    "        if i == 0:\n",
    "            plt.ylabel(r'$q(\\mathbf{x}^{(0..T)})$', fontsize = font_size)\n",
    "            plt.title(r'$t=0$', fontsize = font_size)\n",
    "        elif i == 1:\n",
    "            plt.title(r'$t=\\frac{T}{2}$', fontsize = font_size)\n",
    "        elif i == 2:\n",
    "            plt.title(r'$t=T$', fontsize = font_size)\n",
    "\n",
    "    time_steps = [0, 20, 40]\n",
    "\n",
    "    for i in range(3):\n",
    "\n",
    "        plt.subplot(2, 3, 4+i)\n",
    "        plt.scatter(samples[time_steps[i]][:, 0].data.cpu().numpy(), samples[time_steps[i]][:, 1].data.cpu().numpy(),\n",
    "                    alpha=0.1, c='r', s=1)\n",
    "        plt.xlim([-2,2])\n",
    "        plt.ylim([-2,2])\n",
    "        plt.gca().set_aspect('equal')\n",
    "\n",
    "        if i == 0:\n",
    "            plt.ylabel(r'$p(\\mathbf{x}^{(0..T)})$', fontsize = font_size)\n",
    "\n",
    "\n",
    "    plt.savefig(file_name, bbox_inches = 'tight')\n",
    "    plt.close()"
   ]
  },
  {
   "cell_type": "code",
   "execution_count": null,
   "id": "64e17daa",
   "metadata": {},
   "outputs": [],
   "source": [
    "torch.cuda.is_available()"
   ]
  },
  {
   "cell_type": "code",
   "execution_count": 17,
   "id": "250f99ba",
   "metadata": {},
   "outputs": [
    {
     "name": "stderr",
     "output_type": "stream",
     "text": [
      "  1%|          | 3389/300000 [00:45<1:05:41, 75.25it/s]\n"
     ]
    },
    {
     "ename": "KeyboardInterrupt",
     "evalue": "",
     "output_type": "error",
     "traceback": [
      "\u001b[1;31m---------------------------------------------------------------------------\u001b[0m",
      "\u001b[1;31mKeyboardInterrupt\u001b[0m                         Traceback (most recent call last)",
      "Cell \u001b[1;32mIn[17], line 32\u001b[0m\n\u001b[0;32m     29\u001b[0m model \u001b[38;5;241m=\u001b[39m DiffusionModel(\u001b[38;5;241m40\u001b[39m, mlp_model, device)\n\u001b[0;32m     30\u001b[0m optimizer \u001b[38;5;241m=\u001b[39m torch\u001b[38;5;241m.\u001b[39moptim\u001b[38;5;241m.\u001b[39mAdam(mlp_model\u001b[38;5;241m.\u001b[39mparameters(), lr\u001b[38;5;241m=\u001b[39m\u001b[38;5;241m1e-4\u001b[39m)\n\u001b[1;32m---> 32\u001b[0m \u001b[43mtrain\u001b[49m\u001b[43m(\u001b[49m\u001b[43mmodel\u001b[49m\u001b[43m,\u001b[49m\u001b[43m \u001b[49m\u001b[43moptimizer\u001b[49m\u001b[43m,\u001b[49m\u001b[43m \u001b[49m\u001b[38;5;241;43m64_000\u001b[39;49m\u001b[43m,\u001b[49m\u001b[43m \u001b[49m\u001b[38;5;241;43m300_000\u001b[39;49m\u001b[43m,\u001b[49m\u001b[43m \u001b[49m\u001b[43mdevice\u001b[49m\u001b[43m)\u001b[49m\n",
      "Cell \u001b[1;32mIn[17], line 15\u001b[0m, in \u001b[0;36mtrain\u001b[1;34m(diffusion_model, optimizer, batch_size, nb_epochs, device)\u001b[0m\n\u001b[0;32m     12\u001b[0m loss\u001b[38;5;241m.\u001b[39mbackward()\n\u001b[0;32m     13\u001b[0m optimizer\u001b[38;5;241m.\u001b[39mstep()\n\u001b[1;32m---> 15\u001b[0m training_loss\u001b[38;5;241m.\u001b[39mappend(\u001b[43mloss\u001b[49m\u001b[38;5;241;43m.\u001b[39;49m\u001b[43mitem\u001b[49m\u001b[43m(\u001b[49m\u001b[43m)\u001b[49m)\n\u001b[0;32m     17\u001b[0m \u001b[38;5;28;01mif\u001b[39;00m epoch \u001b[38;5;241m%\u001b[39m \u001b[38;5;241m500\u001b[39m \u001b[38;5;241m==\u001b[39m \u001b[38;5;241m0\u001b[39m:\n\u001b[0;32m     18\u001b[0m     plt\u001b[38;5;241m.\u001b[39mplot(training_loss)\n",
      "\u001b[1;31mKeyboardInterrupt\u001b[0m: "
     ]
    }
   ],
   "source": [
    "def train(diffusion_model, optimizer, batch_size, nb_epochs, device):\n",
    "\n",
    "\n",
    "    training_loss = []\n",
    "\n",
    "    for epoch in tqdm(range(nb_epochs)):\n",
    "\n",
    "        x0 = sample_batch(batch_size).to(device)\n",
    "        loss = diffusion_model.get_loss(x0)\n",
    "\n",
    "        optimizer.zero_grad()\n",
    "        loss.backward()\n",
    "        optimizer.step()\n",
    "\n",
    "        training_loss.append(loss.item())\n",
    "\n",
    "        if epoch % 5000 == 0:\n",
    "            plt.plot(training_loss)\n",
    "            plt.savefig(f'figs/training_loss_epoch_{epoch}.png')\n",
    "            plt.close()\n",
    "\n",
    "            plot(diffusion_model, f'figs/training_epoch_{epoch}.png', device)\n",
    "\n",
    "    return training_loss\n",
    "\n",
    "\n",
    "device = 'cuda'\n",
    "mlp_model = MLP(hidden_dim=128).to(device)\n",
    "model = DiffusionModel(40, mlp_model, device)\n",
    "optimizer = torch.optim.Adam(mlp_model.parameters(), lr=1e-4)\n",
    "\n",
    "train(model, optimizer, 64_000, 300_000, device)"
   ]
  }
 ],
 "metadata": {
  "kernelspec": {
   "display_name": "Python 3 (ipykernel)",
   "language": "python",
   "name": "python3"
  },
  "language_info": {
   "codemirror_mode": {
    "name": "ipython",
    "version": 3
   },
   "file_extension": ".py",
   "mimetype": "text/x-python",
   "name": "python",
   "nbconvert_exporter": "python",
   "pygments_lexer": "ipython3",
   "version": "3.12.2"
  }
 },
 "nbformat": 4,
 "nbformat_minor": 5
}
