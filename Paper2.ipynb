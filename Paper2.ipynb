{
 "cells": [
  {
   "cell_type": "code",
   "execution_count": 1,
   "metadata": {},
   "outputs": [],
   "source": [
    "import torch\n",
    "import torch.nn as nn\n",
    "import math"
   ]
  },
  {
   "cell_type": "code",
   "execution_count": 2,
   "metadata": {},
   "outputs": [],
   "source": [
    "def get_timestep_embedding(timesteps, embedding_dim: int):\n",
    "    \"\"\"\n",
    "    Retrieved from https://github.com/hojonathanho/diffusion/blob/master/diffusion_tf/nn.py#LL90C1-L109C13\n",
    "    Retrieved from https://www.udemy.com/course/diffusion-models/learn/lecture/37971218#overview\n",
    "    \"\"\"\n",
    "\n",
    "    assert len(timesteps.shape) == 1\n",
    "\n",
    "    half_dim = embedding_dim // 2\n",
    "\n",
    "    emb = math.log(10000) / (half_dim - 1)\n",
    "    emb = torch.exp(torch.arange(half_dim, dtype=torch.float32) * -emb)\n",
    "    emb = timesteps.type(torch.float32) [:, None] *emb[None, :]\n",
    "    emb = torch.concat([torch.sin(emb), torch.cos(emb)], axis=1)\n",
    "\n",
    "    print(emb.shape)\n",
    "\n",
    "    if embedding_dim % 2 == 1: # zero pad\n",
    "        emb = torch.pad(emb, [[0, 0], [0, 1]])\n",
    "    \n",
    "    assert emb.shape == (timesteps.shape[0], embedding_dim), f\"{emb.shape}\"\n",
    "\n",
    "    return emb"
   ]
  },
  {
   "cell_type": "code",
   "execution_count": 3,
   "metadata": {},
   "outputs": [],
   "source": [
    "t = (torch.rand(100) * 10).long()"
   ]
  },
  {
   "cell_type": "code",
   "execution_count": 4,
   "metadata": {},
   "outputs": [
    {
     "data": {
      "text/plain": [
       "torch.Size"
      ]
     },
     "execution_count": 4,
     "metadata": {},
     "output_type": "execute_result"
    }
   ],
   "source": [
    "type(t.shape)"
   ]
  },
  {
   "cell_type": "code",
   "execution_count": 5,
   "metadata": {},
   "outputs": [
    {
     "name": "stdout",
     "output_type": "stream",
     "text": [
      "torch.Size([100, 64])\n"
     ]
    },
    {
     "data": {
      "text/plain": [
       "tensor([[ 0.4121,  0.3926, -0.9675,  ...,  1.0000,  1.0000,  1.0000],\n",
       "        [ 0.1411,  0.7912,  0.9964,  ...,  1.0000,  1.0000,  1.0000],\n",
       "        [ 0.9093,  0.9964,  0.8930,  ...,  1.0000,  1.0000,  1.0000],\n",
       "        ...,\n",
       "        [ 0.6570, -0.8831, -0.6612,  ...,  1.0000,  1.0000,  1.0000],\n",
       "        [-0.9589, -0.5423,  0.3724,  ...,  1.0000,  1.0000,  1.0000],\n",
       "        [ 0.8415,  0.6765,  0.5244,  ...,  1.0000,  1.0000,  1.0000]])"
      ]
     },
     "execution_count": 5,
     "metadata": {},
     "output_type": "execute_result"
    }
   ],
   "source": [
    "get_timestep_embedding(t, 64)"
   ]
  },
  {
   "cell_type": "code",
   "execution_count": 6,
   "metadata": {},
   "outputs": [
    {
     "name": "stdout",
     "output_type": "stream",
     "text": [
      "\n",
      "range(start=0, end, step=1, *, out=None, dtype=None, layout=torch.strided, device=None, requires_grad=False) -> Tensor\n",
      "\n",
      "Returns a 1-D tensor of size :math:`\\left\\lfloor \\frac{\\text{end} - \\text{start}}{\\text{step}} \\right\\rfloor + 1`\n",
      "with values from :attr:`start` to :attr:`end` with step :attr:`step`. Step is\n",
      "the gap between two values in the tensor.\n",
      "\n",
      ".. math::\n",
      "    \\text{out}_{i+1} = \\text{out}_i + \\text{step}.\n",
      "\n",
      ".. warning::\n",
      "    This function is deprecated and will be removed in a future release because its behavior is inconsistent with\n",
      "    Python's range builtin. Instead, use :func:`torch.arange`, which produces values in [start, end).\n",
      "\n",
      "Args:\n",
      "    start (float): the starting value for the set of points. Default: ``0``.\n",
      "    end (float): the ending value for the set of points\n",
      "    step (float): the gap between each pair of adjacent points. Default: ``1``.\n",
      "\n",
      "Keyword args:\n",
      "    out (Tensor, optional): the output tensor.\n",
      "    dtype (:class:`torch.dtype`, optional): the desired data type of returned tensor.\n",
      "        Default: if ``None``, uses a global default (see :func:`torch.set_default_dtype`). If `dtype` is not given, infer the data type from the other input\n",
      "        arguments. If any of `start`, `end`, or `stop` are floating-point, the\n",
      "        `dtype` is inferred to be the default dtype, see\n",
      "        :meth:`~torch.get_default_dtype`. Otherwise, the `dtype` is inferred to\n",
      "        be `torch.int64`.\n",
      "    layout (:class:`torch.layout`, optional): the desired layout of returned Tensor.\n",
      "        Default: ``torch.strided``.\n",
      "    device (:class:`torch.device`, optional): the desired device of returned tensor.\n",
      "        Default: if ``None``, uses the current device for the default tensor type\n",
      "        (see :func:`torch.set_default_device`). :attr:`device` will be the CPU\n",
      "        for CPU tensor types and the current CUDA device for CUDA tensor types.\n",
      "    requires_grad (bool, optional): If autograd should record operations on the\n",
      "        returned tensor. Default: ``False``.\n",
      "\n",
      "Example::\n",
      "\n",
      "    >>> torch.range(1, 4)\n",
      "    tensor([ 1.,  2.,  3.,  4.])\n",
      "    >>> torch.range(1, 4, 0.5)\n",
      "    tensor([ 1.0000,  1.5000,  2.0000,  2.5000,  3.0000,  3.5000,  4.0000])\n",
      "\n"
     ]
    }
   ],
   "source": [
    "print(torch.range.__doc__)"
   ]
  }
 ],
 "metadata": {
  "kernelspec": {
   "display_name": "Python 3",
   "language": "python",
   "name": "python3"
  },
  "language_info": {
   "codemirror_mode": {
    "name": "ipython",
    "version": 3
   },
   "file_extension": ".py",
   "mimetype": "text/x-python",
   "name": "python",
   "nbconvert_exporter": "python",
   "pygments_lexer": "ipython3",
   "version": "3.12.2"
  }
 },
 "nbformat": 4,
 "nbformat_minor": 2
}
