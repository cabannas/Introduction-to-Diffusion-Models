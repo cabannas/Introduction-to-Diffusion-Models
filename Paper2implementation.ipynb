{
 "cells": [
  {
   "cell_type": "code",
   "execution_count": 1,
   "metadata": {},
   "outputs": [],
   "source": [
    "import torch\n",
    "import torch.nn as nn\n",
    "import numpy as np\n",
    "from tqdm import tqdm\n",
    "from keras.datasets.mnist import load_data\n",
    "from matplotlib import pyplot as plt\n",
    "\n",
    "from UNet import UNet "
   ]
  },
  {
   "cell_type": "code",
   "execution_count": 2,
   "metadata": {},
   "outputs": [],
   "source": [
    "(trainX, trainY), (testX, testY) = load_data()\n",
    "\n",
    "trainX = np.float32(trainX) / 255.\n",
    "testX = np.float32(testX) / 255.\n",
    "\n",
    "\n",
    "def sample_batch(batch_size, device):\n",
    "\n",
    "    indices = torch.randperm(trainX.shape[0])[:batch_size]\n",
    "    data = torch.from_numpy(trainX[indices]).unsqueeze(1).to(device) # [B, 1, H, W]\n",
    "    \n",
    "    return torch.nn.functional.interpolate(data, 32)"
   ]
  },
  {
   "cell_type": "code",
   "execution_count": 3,
   "metadata": {},
   "outputs": [],
   "source": [
    "class DiffusionModel():\n",
    "    \n",
    "    def __init__(self, T: int, model: nn.Module, device: str):\n",
    "\n",
    "        self.T = T\n",
    "        self.function_aproximator = model.to(device)\n",
    "        self.device = device\n",
    "        \n",
    "        self.beta = torch.linspace(1e-4, 0.02, T).to(device)\n",
    "        self.alpha = 1. - self.beta\n",
    "        self.alpha_bar = torch.cumprod(self.alpha, dim=0)\n",
    "\n",
    "    def training(self, batch_size, optimizer):\n",
    "        \"\"\"\n",
    "        Algorithm 1 in Denoising Diffusion Probabilistic Model\n",
    "        \"\"\"\n",
    "        \n",
    "        x0 = sample_batch(batch_size, self.device)\n",
    "        t = torch.randint(1, self.T+1, (batch_size,), device=self.device, dtype=torch.long)\n",
    "        eps = torch.randn_like(x0)\n",
    "\n",
    "        # Take gradient descent step on\n",
    "\n",
    "        # [B, 1, 1, 1] [B, C, H. W]\n",
    "        alpha_bar_t = self.alpha_bar[t-1].unsqueeze(-1).unsqueeze(-1) .unsqueeze(-1)  \n",
    "        eps_predicted = self.function_aproximator(\n",
    "            torch.sqrt(alpha_bar_t) * x0 + torch.sqrt(1 - alpha_bar_t) * eps, t-1)\n",
    "        \n",
    "        loss = nn.functional.mse_loss(eps, eps_predicted)\n",
    "        optimizer.zero_grad()\n",
    "        loss.backward()\n",
    "        optimizer.step()\n",
    "\n",
    "        return loss.item()        \n",
    "\n",
    "\n",
    "    @torch.no_grad()\n",
    "    def sampling(self, n_samples=1, image_channels=1, image_size=(32, 32), use_tqdm=True):\n",
    "        \n",
    "        x = torch.randn((n_samples, image_channels, image_size[0], image_size[1]),\n",
    "                         device=self.device)\n",
    "        \n",
    "        progress_bar = tqdm if use_tqdm else lambda x : x\n",
    "\n",
    "        for t in progress_bar(range(self.T, 0, -1)):\n",
    "            z = torch.randn_like(x) if t > 1 else torch.zeros_like(x)\n",
    "\n",
    "            t = torch.ones(n_samples, dtype=torch.long, device=self.device) * t\n",
    "\n",
    "            beta_t = self.beta[t-1].unsqueeze(-1).unsqueeze(-1) .unsqueeze(-1) \n",
    "            alpha_t = self.alpha[t-1].unsqueeze(-1).unsqueeze(-1) .unsqueeze(-1) \n",
    "            alpha_bar_t = self.alpha_bar[t-1].unsqueeze(-1).unsqueeze(-1) .unsqueeze(-1) \n",
    "\n",
    "            mean = 1 / torch.sqrt(alpha_t) * (x - ((1 - alpha_t) / torch.sqrt(1 - alpha_bar_t)) * self.function_aproximator(x, t-1))\n",
    "            sigma = torch.sqrt(beta_t)\n",
    "\n",
    "            x = mean + sigma * z\n",
    "\n",
    "        return x"
   ]
  },
  {
   "cell_type": "code",
   "execution_count": 4,
   "metadata": {},
   "outputs": [],
   "source": [
    "device = 'cuda'\n",
    "batch_size = 64\n",
    "model = UNet()\n",
    "optimizer = torch.optim.Adam(model.parameters(), lr=2e-5)\n",
    "diffusion_model = DiffusionModel(1000, model, device)"
   ]
  },
  {
   "cell_type": "code",
   "execution_count": 5,
   "metadata": {},
   "outputs": [
    {
     "name": "stderr",
     "output_type": "stream",
     "text": [
      "100%|██████████| 40000/40000 [1:52:46<00:00,  5.91it/s]   \n"
     ]
    }
   ],
   "source": [
    "training_loss = []\n",
    "\n",
    "for epoch in tqdm(range(40_000)):\n",
    "    loss = diffusion_model.training(batch_size, optimizer)\n",
    "    training_loss.append(loss)\n",
    "\n",
    "    if epoch % 100 == 0:\n",
    "        plt.plot(training_loss)\n",
    "        plt.savefig('paper2figs/training_loss.png')\n",
    "        plt.close()\n",
    "\n",
    "        plt.plot(training_loss[-1000:])\n",
    "        plt.savefig('paper2figs/training_loss_cropped.png')\n",
    "        plt.close()\n",
    "\n",
    "    if epoch % 5000 == 0:\n",
    "        nb_images = 81\n",
    "        samples = diffusion_model.sampling(n_samples=nb_images, use_tqdm=False)\n",
    "        plt.figure(figsize=(17, 17))\n",
    "\n",
    "        for i in range(nb_images):\n",
    "            plt.subplot(9, 9, 1 + i) # [B, C, H, W]\n",
    "            plt.axis('off')\n",
    "            plt.imshow(samples[i].squeeze(0).clip(0, 1).data.cpu().numpy(), cmap='gray')\n",
    "\n",
    "        plt.savefig(f'paper2figs/samples_epoch_{epoch}.png')\n",
    "        plt.close()\n",
    "\n",
    "        torch.save(model.cpu(), f'paper2models/model_paper2_epoch_{epoch}')\n",
    "        model.cuda()"
   ]
  },
  {
   "cell_type": "code",
   "execution_count": 6,
   "metadata": {},
   "outputs": [],
   "source": [
    "nb_images = 81\n",
    "samples = diffusion_model.sampling(n_samples=nb_images, use_tqdm=False)\n",
    "plt.figure(figsize=(17, 17))\n",
    "\n",
    "for i in range(nb_images):\n",
    "    plt.subplot(9, 9, 1 + i) # [B, C, H, W]\n",
    "    plt.axis('off')\n",
    "    plt.imshow(samples[i].squeeze(0).clip(0, 1).data.cpu().numpy(), cmap='gray')\n",
    "\n",
    "plt.savefig(f'paper2figs/samples_epoch_{epoch}.png')\n",
    "plt.close()\n",
    "\n",
    "torch.save(model.cpu(), f'paper2models/model_paper2_epoch_{epoch}')"
   ]
  }
 ],
 "metadata": {
  "kernelspec": {
   "display_name": "Python 3",
   "language": "python",
   "name": "python3"
  },
  "language_info": {
   "codemirror_mode": {
    "name": "ipython",
    "version": 3
   },
   "file_extension": ".py",
   "mimetype": "text/x-python",
   "name": "python",
   "nbconvert_exporter": "python",
   "pygments_lexer": "ipython3",
   "version": "3.12.2"
  }
 },
 "nbformat": 4,
 "nbformat_minor": 2
}
